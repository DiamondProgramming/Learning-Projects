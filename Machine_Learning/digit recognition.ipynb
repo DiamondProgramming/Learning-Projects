{
 "cells": [
  {
   "cell_type": "markdown",
   "id": "9ca0cecf",
   "metadata": {},
   "source": [
    "# Live Digit Recognition App using Tkinter and Pillow\n",
    "### Author: HASEEB Sheikh Muhammad\n",
    "### Date: 14/06/2025\n",
    "\n",
    "This is my first ever machine learning project, it was quite simple to just do ML and stop, so I decided to add a GUI to it, but to make it even more challenging, I made it live, this digit recogntion program will give live predictions as you draw (only if you pause drawing, to save resources)\n",
    "\n",
    "\n",
    "This is a digit recognition program using Tensorflow in Python  \n",
    "I will take it step-by-step:\n",
    "1. Import libraries and dataset\n",
    "2. Verify dataset is good\n",
    "3. Build the model\n",
    "4. Train the model\n",
    "5. Test the model\n",
    "\n",
    "For GUI:  \n",
    "1. Design the GUI in Paint or other software\n",
    "2. Create the widgets in Tkinter\n",
    "3. Add functionality to the widgets\n",
    "4. Load the saved model\n",
    "5. Preprocess user input\n",
    "6. Make predictions  \n"
   ]
  },
  {
   "cell_type": "code",
   "execution_count": 133,
   "id": "2c82b5bf",
   "metadata": {},
   "outputs": [],
   "source": [
    "import numpy as np\n",
    "import tensorflow as tf\n",
    "from tensorflow import keras\n",
    "from tensorflow.keras.models import Sequential\n",
    "from tensorflow.keras.layers import Dense, Flatten, Input"
   ]
  },
  {
   "cell_type": "code",
   "execution_count": 122,
   "id": "7d63641f",
   "metadata": {},
   "outputs": [],
   "source": [
    "# Load the MNIST dataset\n",
    "numbers = tf.keras.datasets.mnist\n",
    "(x_train, y_train), (x_test, y_test) = numbers.load_data()"
   ]
  },
  {
   "cell_type": "code",
   "execution_count": 123,
   "id": "7237dd61",
   "metadata": {},
   "outputs": [],
   "source": [
    "#Normalize the data\n",
    "x_train = x_train / 255.0\n",
    "x_test = x_test / 255.0"
   ]
  },
  {
   "cell_type": "code",
   "execution_count": 124,
   "id": "85f54c92",
   "metadata": {},
   "outputs": [],
   "source": [
    "# Define the model\n",
    "model = Sequential([\n",
    "    Input((28,28,1)),\n",
    "    Flatten(),\n",
    "    Dense(128, activation = 'relu'),\n",
    "    Dense(128, activation = 'relu'),\n",
    "    Dense(64, activation = 'relu'),\n",
    "    Dense(10, activation = 'softmax')\n",
    "])\n",
    "# Compile the model\n",
    "model.compile(optimizer = 'adam', loss = 'sparse_categorical_crossentropy', metrics = ['accuracy'])\n"
   ]
  },
  {
   "cell_type": "code",
   "execution_count": 125,
   "id": "52e0f495",
   "metadata": {},
   "outputs": [
    {
     "name": "stdout",
     "output_type": "stream",
     "text": [
      "Epoch 1/20\n",
      "\u001b[1m1875/1875\u001b[0m \u001b[32m━━━━━━━━━━━━━━━━━━━━\u001b[0m\u001b[37m\u001b[0m \u001b[1m3s\u001b[0m 1ms/step - accuracy: 0.8733 - loss: 0.4176\n",
      "Epoch 2/20\n",
      "\u001b[1m1875/1875\u001b[0m \u001b[32m━━━━━━━━━━━━━━━━━━━━\u001b[0m\u001b[37m\u001b[0m \u001b[1m2s\u001b[0m 1ms/step - accuracy: 0.9684 - loss: 0.1034\n",
      "Epoch 3/20\n",
      "\u001b[1m1875/1875\u001b[0m \u001b[32m━━━━━━━━━━━━━━━━━━━━\u001b[0m\u001b[37m\u001b[0m \u001b[1m2s\u001b[0m 1ms/step - accuracy: 0.9782 - loss: 0.0685\n",
      "Epoch 4/20\n",
      "\u001b[1m1875/1875\u001b[0m \u001b[32m━━━━━━━━━━━━━━━━━━━━\u001b[0m\u001b[37m\u001b[0m \u001b[1m2s\u001b[0m 1ms/step - accuracy: 0.9831 - loss: 0.0540\n",
      "Epoch 5/20\n",
      "\u001b[1m1875/1875\u001b[0m \u001b[32m━━━━━━━━━━━━━━━━━━━━\u001b[0m\u001b[37m\u001b[0m \u001b[1m2s\u001b[0m 1ms/step - accuracy: 0.9867 - loss: 0.0415\n",
      "Epoch 6/20\n",
      "\u001b[1m1875/1875\u001b[0m \u001b[32m━━━━━━━━━━━━━━━━━━━━\u001b[0m\u001b[37m\u001b[0m \u001b[1m2s\u001b[0m 1ms/step - accuracy: 0.9890 - loss: 0.0333\n",
      "Epoch 7/20\n",
      "\u001b[1m1875/1875\u001b[0m \u001b[32m━━━━━━━━━━━━━━━━━━━━\u001b[0m\u001b[37m\u001b[0m \u001b[1m2s\u001b[0m 1ms/step - accuracy: 0.9898 - loss: 0.0320\n",
      "Epoch 8/20\n",
      "\u001b[1m1875/1875\u001b[0m \u001b[32m━━━━━━━━━━━━━━━━━━━━\u001b[0m\u001b[37m\u001b[0m \u001b[1m2s\u001b[0m 1ms/step - accuracy: 0.9915 - loss: 0.0260\n",
      "Epoch 9/20\n",
      "\u001b[1m1875/1875\u001b[0m \u001b[32m━━━━━━━━━━━━━━━━━━━━\u001b[0m\u001b[37m\u001b[0m \u001b[1m2s\u001b[0m 1ms/step - accuracy: 0.9919 - loss: 0.0242\n",
      "Epoch 10/20\n",
      "\u001b[1m1875/1875\u001b[0m \u001b[32m━━━━━━━━━━━━━━━━━━━━\u001b[0m\u001b[37m\u001b[0m \u001b[1m3s\u001b[0m 1ms/step - accuracy: 0.9925 - loss: 0.0225\n",
      "Epoch 11/20\n",
      "\u001b[1m1875/1875\u001b[0m \u001b[32m━━━━━━━━━━━━━━━━━━━━\u001b[0m\u001b[37m\u001b[0m \u001b[1m2s\u001b[0m 1ms/step - accuracy: 0.9943 - loss: 0.0184\n",
      "Epoch 12/20\n",
      "\u001b[1m1875/1875\u001b[0m \u001b[32m━━━━━━━━━━━━━━━━━━━━\u001b[0m\u001b[37m\u001b[0m \u001b[1m2s\u001b[0m 1ms/step - accuracy: 0.9932 - loss: 0.0205\n",
      "Epoch 13/20\n",
      "\u001b[1m1875/1875\u001b[0m \u001b[32m━━━━━━━━━━━━━━━━━━━━\u001b[0m\u001b[37m\u001b[0m \u001b[1m2s\u001b[0m 1ms/step - accuracy: 0.9950 - loss: 0.0150\n",
      "Epoch 14/20\n",
      "\u001b[1m1875/1875\u001b[0m \u001b[32m━━━━━━━━━━━━━━━━━━━━\u001b[0m\u001b[37m\u001b[0m \u001b[1m3s\u001b[0m 2ms/step - accuracy: 0.9954 - loss: 0.0150\n",
      "Epoch 15/20\n",
      "\u001b[1m1875/1875\u001b[0m \u001b[32m━━━━━━━━━━━━━━━━━━━━\u001b[0m\u001b[37m\u001b[0m \u001b[1m3s\u001b[0m 1ms/step - accuracy: 0.9959 - loss: 0.0131\n",
      "Epoch 16/20\n",
      "\u001b[1m1875/1875\u001b[0m \u001b[32m━━━━━━━━━━━━━━━━━━━━\u001b[0m\u001b[37m\u001b[0m \u001b[1m3s\u001b[0m 2ms/step - accuracy: 0.9967 - loss: 0.0103\n",
      "Epoch 17/20\n",
      "\u001b[1m1875/1875\u001b[0m \u001b[32m━━━━━━━━━━━━━━━━━━━━\u001b[0m\u001b[37m\u001b[0m \u001b[1m3s\u001b[0m 2ms/step - accuracy: 0.9962 - loss: 0.0122\n",
      "Epoch 18/20\n",
      "\u001b[1m1875/1875\u001b[0m \u001b[32m━━━━━━━━━━━━━━━━━━━━\u001b[0m\u001b[37m\u001b[0m \u001b[1m3s\u001b[0m 1ms/step - accuracy: 0.9967 - loss: 0.0112\n",
      "Epoch 19/20\n",
      "\u001b[1m1875/1875\u001b[0m \u001b[32m━━━━━━━━━━━━━━━━━━━━\u001b[0m\u001b[37m\u001b[0m \u001b[1m3s\u001b[0m 1ms/step - accuracy: 0.9964 - loss: 0.0121\n",
      "Epoch 20/20\n",
      "\u001b[1m1875/1875\u001b[0m \u001b[32m━━━━━━━━━━━━━━━━━━━━\u001b[0m\u001b[37m\u001b[0m \u001b[1m3s\u001b[0m 2ms/step - accuracy: 0.9956 - loss: 0.0138\n"
     ]
    },
    {
     "data": {
      "text/plain": [
       "<keras.src.callbacks.history.History at 0x17adfb743e0>"
      ]
     },
     "execution_count": 125,
     "metadata": {},
     "output_type": "execute_result"
    }
   ],
   "source": [
    "# Train the model\n",
    "model.fit(x_train, y_train, epochs=20)"
   ]
  },
  {
   "cell_type": "code",
   "execution_count": 126,
   "id": "7da4e13a",
   "metadata": {},
   "outputs": [
    {
     "name": "stdout",
     "output_type": "stream",
     "text": [
      "\u001b[1m313/313\u001b[0m \u001b[32m━━━━━━━━━━━━━━━━━━━━\u001b[0m\u001b[37m\u001b[0m \u001b[1m0s\u001b[0m 1ms/step - accuracy: 0.9738 - loss: 0.1346  \n",
      "Test Loss:0.1154850572347641, Test accuracy: 0.9793000221252441\n"
     ]
    }
   ],
   "source": [
    "# Test the model\n",
    "test_loss, test_acc = model.evaluate(x_test, y_test)\n",
    "# Print the results\n",
    "print(f'Test Loss:{test_loss}, Test accuracy: {test_acc}')"
   ]
  },
  {
   "cell_type": "code",
   "execution_count": 127,
   "id": "28fc1bfd",
   "metadata": {},
   "outputs": [
    {
     "name": "stderr",
     "output_type": "stream",
     "text": [
      "WARNING:absl:You are saving your model as an HDF5 file via `model.save()` or `keras.saving.save_model(model)`. This file format is considered legacy. We recommend using instead the native Keras format, e.g. `model.save('my_model.keras')` or `keras.saving.save_model(model, 'my_model.keras')`. \n"
     ]
    }
   ],
   "source": [
    "# Save the model\n",
    "model.save('mnistdigit_model.h5')"
   ]
  },
  {
   "cell_type": "markdown",
   "id": "6a4649e5",
   "metadata": {},
   "source": [
    "# Building the App\n",
    "\n",
    "Even though the model has been trained and tested, I want to make an app to make use of this model to detect the digits live and better visualize the output from the softmax layer. All of this will be done using Tkinter and Pillow. Even though the code below is part of one program, I am going to import the required libraries here instead of top."
   ]
  },
  {
   "cell_type": "code",
   "execution_count": 128,
   "id": "8a48c555",
   "metadata": {},
   "outputs": [],
   "source": [
    "# Import necessary libraries for GUI\n",
    "import tkinter as tk\n",
    "from tkinter import Canvas, Button, Label\n",
    "from PIL import Image, ImageDraw, ImageOps\n",
    "import os"
   ]
  },
  {
   "cell_type": "code",
   "execution_count": 131,
   "id": "81ca92c6",
   "metadata": {},
   "outputs": [],
   "source": [
    "# Define the application as a class\n",
    "class GUIApp:\n",
    "    def __init__(self, master):\n",
    "        self.master = master\n",
    "        master.title(\"Digit Recognizer\") # Give title to the tkinter window\n",
    "        master.geometry(\"1280x720\") # Set the size of the window\n",
    "        master.resizable(True, True) # Make the window resizable\n",
    "        master.configure(bg=\"#0f0606\") # Set the background color of the window\n",
    "\n",
    "        ''' So, that is the basic setup for tkinter, we are missing the defined functions which will be defined below,\n",
    "        however I wanted to add an important note here about what I am about to do now, I am going to be using Pillow\n",
    "        to create a Pillow image which will basically act as invisible layer to extract the data from the user input,\n",
    "        in this case, the handrawn digit, the reason why I am using both Tkinter and Pillow is that Tkinter will not\n",
    "        give me the pixel data from the user input, but Pillow will, so Tkinter is mainly used here to visualize the\n",
    "        input and provide the GUI, whereas Pillow is being used to extract the user input \"invisibly\" and feed the\n",
    "        data to the machine learning model.'''\n",
    "\n",
    "        self.image = Image.new('L',(280,280)) # Create the Pillow Image, it is grayscale 'L' , 280 x 280 pixels\n",
    "        self.pillowImage = ImageDraw.Draw(self.image) # Ready the image to be drawn on, named as such for clarity\n",
    "\n",
    "        self.last_x, self.last_y = None, None # Store coordinated from last position of drawing lines\n",
    "        self.drawing = False # Flag to know whether mouse is clicked or not\n",
    "        self.brush_size = 18  # Set the brush size for drawing\n",
    "\n",
    "        self.predict_id = None \n",
    "        ''' This stores the ID number from the after() call of Tkinter, to check for scheduled\n",
    "        predictions, and cancel the previous ones, this is necessary to reduce the number of prediction calls while\n",
    "        also making the app live and responsive without wasting many resources. '''\n",
    "\n",
    "        self.setup_model() # Setup the trained model to recognize the new input\n",
    "        self.create_widgets() # Create Widgets on the app   \n",
    "        self.reset_canvas() # Reset the whole canvas\n",
    "\n",
    "\n",
    "    # Define the model setup\n",
    "    def setup_model(self):\n",
    "        self.model = keras.models.load_model('mnistdigit_model.h5')\n",
    "        self.model_status = \"Model Successfully Loaded\"\n",
    "\n",
    "    def create_widgets(self):\n",
    "        # This function creates the widgets for the GUI\n",
    "            \n",
    "        # This is the main frame for the whole program\n",
    "        main_frame = tk.Frame(self.master, bg=\"#0f0606\", bd=0, relief=\"flat\", padx=30, pady=30, highlightbackground=\"#2f0000\", highlightthickness=2)\n",
    "        main_frame.pack(padx=20, pady=20, fill=\"both\", expand=True)\n",
    "        main_frame.grid_columnconfigure((0,1), weight=1)\n",
    "        main_frame.grid_rowconfigure(0, weight=1)\n",
    "\n",
    "        # This is the smaller canvas for the user input\n",
    "        canvas_frame = tk.Frame(main_frame, bg= \"#0f0606\")\n",
    "        canvas_frame.grid(row=0, column=0, padx=20, pady=20, sticky=\"nsew\")\n",
    "        canvas_frame.grid_rowconfigure((0,1,3), weight=0)\n",
    "        canvas_frame.grid_rowconfigure(2, weight=1)\n",
    "\n",
    "        # This is the the instruction label\n",
    "        instruction_label = Label(canvas_frame, text=\"Draw a digit (0-9) in the box below\", font=(\"Helvetica\", 16, \"bold\"), bg=\"#200b0b\", fg=\"white\")\n",
    "        instruction_label.pack(pady=10)\n",
    "        # This is the canvas where the user will draw the digit\n",
    "        self.canvas = Canvas(canvas_frame, width=280, height=280, bg=\"black\", cursor=\"crosshair\", bd = 2, relief=\"ridge\", highlightbackground=\"#200b0b\", highlightthickness=2)\n",
    "        self.canvas.pack(pady=10)\n",
    "\n",
    "        # Adding drawing binding to the canvas the actual functions will be defined below\n",
    "        self.canvas.bind(\"<Button-1>\", self.start_draw)\n",
    "        self.canvas.bind(\"<B1-Motion>\", self.draw_line)\n",
    "        self.canvas.bind(\"<ButtonRelease-1>\", self.stop_draw)\n",
    "\n",
    "        # The clear button to clear the canvas\n",
    "        clear_button = Button(canvas_frame, text=\"Clear Canvas\", command = self.reset_canvas, font=(\"Helvetica\", 14), bg=\"#200b0b\", fg=\"white\", activebackground=\"#2f0000\", activeforeground=\"white\")\n",
    "        clear_button.pack(pady=10)\n",
    "        \n",
    "        # The model status label will be place here, the status will be updated after the model is loaded\n",
    "        self.success_label = Label(canvas_frame, text=self.model_status, font=(\"Helvetica\", 12), bg=\"#0f0606\", fg=\"white\")\n",
    "        self.success_label.pack(pady=10)\n",
    "\n",
    "        # Now definiing the result area where the prediction will be shown\n",
    "        result_frame = tk.Frame(main_frame, bg=\"#0f0606\")\n",
    "        result_frame.grid(row=0, column=1, padx=20, pady=20, sticky=\"nsew\") \n",
    "        result_frame.grid_rowconfigure((0,1), weight=0)\n",
    "        result_frame.grid_rowconfigure(2, weight=1)\n",
    "        result_frame.grid_columnconfigure(0, weight=1)\n",
    "\n",
    "        # The result label to show the prediction text\n",
    "        self.result_label = Label(result_frame, text=\"Prediction: \", font=(\"Helvetica\", 16), bg=\"#0f0606\", fg=\"white\")\n",
    "        self.result_label.pack(pady=10)\n",
    "\n",
    "        # Shwowing the actual prediction number ? is the placeholder\n",
    "        self.prediction_number = Label(result_frame, text=\"?\", font=(\"Helvetica\", 64, \"bold\"), bg=\"#0f0606\", fg=\"white\")\n",
    "        self.prediction_number.pack(pady=10)\n",
    "\n",
    "        # Prediction Matrix label\n",
    "        prediction_matrix_label = Label(result_frame, text=\"Prediction Matrix:\", font=(\"Helvetica\", 12), bg=\"#0f0606\", fg=\"white\")\n",
    "        prediction_matrix_label.pack(pady=10)\n",
    "\n",
    "        # The actual prediction matrix to show the probabilities of each digit\n",
    "        self.prediction_matrix = tk.Frame(result_frame, bg=\"#200b0b\", bd = 1, relief = \"groove\") \n",
    "        self.prediction_matrix.pack(fill = \"x\", expand = True, padx=10, pady=10)\n",
    "        \n",
    "        # Create the matrix labels for each digit\n",
    "        # Using a dictionary to store the labels for easy access\n",
    "        self.probability_labels = {}\n",
    "\n",
    "        # Using a loop to create labels for each digit\n",
    "        for i in range(10):\n",
    "            # Create a frame for each row in the prediction matrix\n",
    "            row_frame = tk.Frame(self.prediction_matrix, bg=\"#200b0b\")\n",
    "            row_frame.pack(fill=\"x\", pady = 2)\n",
    "            # Create labels for the digit and its probability\n",
    "            digit_label = Label(row_frame, text =f\"Digit {i}:\", font=(\"Helvetica\", 12), bg=\"#200b0b\", fg=\"white\")\n",
    "            digit_label.pack(side=\"left\", padx=5)\n",
    "            probability_label = Label(row_frame, text=\"0.00%\", font=(\"Helvetica\", 12), bg=\"#200b0b\", fg=\"white\")\n",
    "            probability_label.pack(side=\"right\", padx=5)\n",
    "            # Store the probability label in the dictionary\n",
    "            self.probability_labels[i] = {\"frame\" : row_frame, \"probability\": probability_label}\n",
    "\n",
    "\n",
    "    # Define the functions for the GUI actions\n",
    "    # This function defines the actions when the mouse button is pressed to start drawing\n",
    "    def start_draw(self,event):\n",
    "        \"\"\" This function is called when the mouse button is pressed on the canvas. Records the starting position\n",
    "        of the drawing and sets the drawing flag to True. \"\"\"\n",
    "        self.drawing = True\n",
    "        self.last_x, self.last_y = event.x, event.y\n",
    "        # Drawing on the canvas for visualization\n",
    "        self.canvas.create_oval(event.x - self.brush_size/2, event.y - self.brush_size/2, event.x + self.brush_size/2, event.y + self.brush_size/2, fill=\"white\", outline=\"white\")\n",
    "        # Drawing on the Pillow image for data extraction\n",
    "        self.pillowImage.ellipse([event.x - self.brush_size/2, event.y - self.brush_size/2, event.x + self.brush_size/2, event.y + self.brush_size/2], fill=\"white\")\n",
    "        # Schedule the prediction, function defined below\n",
    "        self.schedule_prediction()\n",
    "\n",
    "    # This function defines the actions when the mouse is moved while the button is pressed to draw lines\n",
    "    def draw_line(self, event):\n",
    "        if self.drawing:\n",
    "            self.canvas.create_line(self.last_x, self.last_y, event.x, event.y, fill=\"white\", width=self.brush_size, capstyle=tk.ROUND, smooth=True)    \n",
    "            # Drawing on the Pillow image for data extraction\n",
    "            self.pillowImage.line([self.last_x, self.last_y, event.x, event.y], fill=\"white\", width = self.brush_size, joint =\"curve\")\n",
    "            self.last_x, self.last_y = event.x, event.y\n",
    "            self.schedule_prediction()  # Reschedule the prediction\n",
    "\n",
    "    # This function defines the actions when the mouse button is released to stop drawing\n",
    "    def stop_draw(self, event):\n",
    "        self.drawing = False\n",
    "        self.predict_digit() # Predict the digit when the mouse button is released\n",
    "        self.cancel_prediction() # Cancel any scheduled predictions\n",
    "\n",
    "    # Clear the canvas upon clicking the clear button and reset the Pillow image\n",
    "    def reset_canvas(self):\n",
    "        self.canvas.delete(\"all\")  # Clear the canvas\n",
    "        self.image.paste(0, (0, 0, 280, 280)) # Create a new Pillow Image\n",
    "        self.pillowImage = ImageDraw.Draw(self.image)\n",
    "        # Reset prediction, and prediction matrix\n",
    "        self.prediction_number.config(text=\"?\")\n",
    "        for i in range(10):\n",
    "            self.probability_labels[i][\"probability\"].config(text=\"0.00%\")\n",
    "\n",
    "    def schedule_prediction(self):\n",
    "        if self.predict_id:\n",
    "            self.master.after_cancel(self.predict_id) # Cancel the prediction if it is already scheduled\n",
    "        self.predict_id = self.master.after(500, self.predict_digit) # Create a new prediction after 500ms\n",
    "\n",
    "    def cancel_prediction(self):\n",
    "        if self.predict_id:\n",
    "            self.master.after_cancel(self.predict_id)\n",
    "            self.predict_id = None # Reset the predict_id to None\n",
    "\n",
    "    # Ready the pillow image for prediction\n",
    "    def preprocess_image(self):\n",
    "        # Reize the image to 28x28 pixels\n",
    "        img = self.image.resize((28, 28), Image.LANCZOS)\n",
    "        # Since the model was trained on a black background with white digits, we need to invert the colors for the prediction\n",
    "        # Convert the image to a numpy array and normalize it\n",
    "        img_array = np.array(img).astype('float32') / 255.0\n",
    "        # Reshape the array to match the input shape of the model\n",
    "        final_array = img_array.reshape(1, 28, 28,1)  # Add batch dimension\n",
    "        return final_array\n",
    "\n",
    "    def predict_digit(self):\n",
    "        # Use the preprocess_image function to get the image ready for prediction\n",
    "        processed_image = self.preprocess_image()\n",
    "        # Make the prediction using the model\n",
    "        predictions = self.model.predict(processed_image, verbose=0) # verbose=0 to suppress output\n",
    "        probabilities = predictions[0]\n",
    "        predicted_digit = np.argmax(probabilities)\n",
    "        # Update the prediction number label\n",
    "        self.prediction_number.config(text=str(predicted_digit))\n",
    "        # Update the probability matrix\n",
    "        for i in range(10):\n",
    "            self.probability_labels[i][\"probability\"].config(text=f\"{100 * probabilities[i]:.2f}%\")"
   ]
  },
  {
   "cell_type": "code",
   "execution_count": 132,
   "id": "ab7010f3",
   "metadata": {},
   "outputs": [
    {
     "name": "stderr",
     "output_type": "stream",
     "text": [
      "WARNING:absl:Compiled the loaded model, but the compiled metrics have yet to be built. `model.compile_metrics` will be empty until you train or evaluate the model.\n"
     ]
    }
   ],
   "source": [
    "window = tk.Tk()\n",
    "app = GUIApp(window)\n",
    "window.mainloop()"
   ]
  },
  {
   "cell_type": "markdown",
   "id": "b49e5809",
   "metadata": {},
   "source": [
    "# That is all!\n",
    "What a rewarding experience, so much learning done in such short amount of time  \n",
    "I want to write down some of my takeaways from this project:  \n",
    "1. Machine learning basics (layers etc.).\n",
    "2. Importance of input shape, this was the biggest 'bug' for me, since I did not really understand the shapes of the training data, and was doing the preprocessing wrong.\n",
    "3. Tkinter GUI in somewhat depth, (windows, layouts, widgets, parenting, canvas, binding, events, etc).\n",
    "4. Importance of planning out the project first, visualizing the project before starting."
   ]
  },
  {
   "cell_type": "markdown",
   "id": "31f5369c",
   "metadata": {},
   "source": []
  }
 ],
 "metadata": {
  "kernelspec": {
   "display_name": "Python 3",
   "language": "python",
   "name": "python3"
  },
  "language_info": {
   "codemirror_mode": {
    "name": "ipython",
    "version": 3
   },
   "file_extension": ".py",
   "mimetype": "text/x-python",
   "name": "python",
   "nbconvert_exporter": "python",
   "pygments_lexer": "ipython3",
   "version": "3.12.6"
  }
 },
 "nbformat": 4,
 "nbformat_minor": 5
}
